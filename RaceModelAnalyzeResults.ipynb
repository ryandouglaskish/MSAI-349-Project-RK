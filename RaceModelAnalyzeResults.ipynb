{
 "cells": [
  {
   "cell_type": "code",
   "execution_count": 1,
   "metadata": {},
   "outputs": [],
   "source": [
    "from RaceModels import *\n",
    "\n",
    "%load_ext autoreload\n",
    "%autoreload 2"
   ]
  },
  {
   "cell_type": "markdown",
   "metadata": {},
   "source": [
    "## Regression models"
   ]
  },
  {
   "cell_type": "code",
   "execution_count": 91,
   "metadata": {},
   "outputs": [
    {
     "name": "stdout",
     "output_type": "stream",
     "text": [
      "reg_pos_3copies_1to10_1HL_customweightrankingloss\n",
      "reg_pos_3copies_1to10_1HL_mse\n",
      "reg_pos_3copies_1to10_2HL_mse\n",
      "reg_pos_3_coef_copies_1to5_2HL_customweightrankingloss\n",
      "reg_pos_coef_3copies_1to5_1HL_mse\n",
      "reg_pos_coef_3copies_1to5_2HL_mse\n"
     ]
    }
   ],
   "source": [
    "MODELS_PATH = 'models/RaceModels/'\n",
    "\n",
    "for model_dir in os.listdir(MODELS_PATH):\n",
    "    if os.path.isdir(os.path.join(MODELS_PATH, model_dir)):\n",
    "        if model_dir.startswith('reg'):\n",
    "            print(model_dir)\n"
   ]
  },
  {
   "cell_type": "code",
   "execution_count": 34,
   "metadata": {},
   "outputs": [
    {
     "data": {
      "text/plain": [
       "epoch                91.000000\n",
       "training_losses       0.057759\n",
       "validation_losses     0.064569\n",
       "train_fp_acc          0.361111\n",
       "val_fp_acc            0.346405\n",
       "Name: 90, dtype: float64"
      ]
     },
     "execution_count": 34,
     "metadata": {},
     "output_type": "execute_result"
    }
   ],
   "source": [
    "# reg_pos_coef_3copies_1to5_1HL_mse/\n",
    "model = 'reg_pos_3copies_1to10_1HL_mse'\n",
    "performance = get_model_performance(MODELS_PATH + model + '/')\n",
    "performance.sort_values(by='val_fp_acc', ascending=False)\n",
    "performance.iloc[90]"
   ]
  },
  {
   "cell_type": "code",
   "execution_count": 32,
   "metadata": {},
   "outputs": [
    {
     "data": {
      "text/plain": [
       "epoch                208.000000\n",
       "training_losses        0.058222\n",
       "validation_losses      0.069100\n",
       "train_fp_acc           0.328431\n",
       "val_fp_acc             0.313725\n",
       "Name: 207, dtype: float64"
      ]
     },
     "execution_count": 32,
     "metadata": {},
     "output_type": "execute_result"
    }
   ],
   "source": [
    "model = 'reg_pos_3copies_1to10_2HL_mse'\n",
    "performance = get_model_performance(MODELS_PATH + model + '/')\n",
    "performance.sort_values(by='val_fp_acc', ascending=False)\n",
    "performance.iloc[207]"
   ]
  },
  {
   "cell_type": "code",
   "execution_count": 30,
   "metadata": {},
   "outputs": [
    {
     "data": {
      "text/plain": [
       "epoch                363.000000\n",
       "training_losses        0.055944\n",
       "validation_losses      0.063797\n",
       "train_fp_acc           0.475490\n",
       "val_fp_acc             0.398693\n",
       "Name: 362, dtype: float64"
      ]
     },
     "execution_count": 30,
     "metadata": {},
     "output_type": "execute_result"
    }
   ],
   "source": [
    "model = 'reg_pos_coef_3copies_1to5_1HL_mse'\n",
    "performance = get_model_performance(MODELS_PATH + model + '/')\n",
    "performance.sort_values(by='val_fp_acc', ascending=False)\n",
    "performance.iloc[362]"
   ]
  },
  {
   "cell_type": "code",
   "execution_count": 28,
   "metadata": {},
   "outputs": [
    {
     "data": {
      "text/plain": [
       "epoch                656.000000\n",
       "training_losses        0.058310\n",
       "validation_losses      0.067748\n",
       "train_fp_acc           0.396242\n",
       "val_fp_acc             0.352941\n",
       "Name: 655, dtype: float64"
      ]
     },
     "execution_count": 28,
     "metadata": {},
     "output_type": "execute_result"
    }
   ],
   "source": [
    "model = 'reg_pos_coef_3copies_1to5_2HL_mse'\n",
    "performance = get_model_performance(MODELS_PATH + model + '/')\n",
    "performance.sort_values(by='val_fp_acc', ascending=False)\n",
    "performance.iloc[655]"
   ]
  },
  {
   "cell_type": "code",
   "execution_count": 36,
   "metadata": {},
   "outputs": [
    {
     "data": {
      "text/plain": [
       "epoch                92.000000\n",
       "training_losses       0.766184\n",
       "validation_losses     0.861281\n",
       "train_fp_acc          0.280229\n",
       "val_fp_acc            0.339869\n",
       "Name: 91, dtype: float64"
      ]
     },
     "execution_count": 36,
     "metadata": {},
     "output_type": "execute_result"
    }
   ],
   "source": [
    "model = 'reg_pos_3copies_1to10_1HL_customweightrankingloss'\n",
    "performance = get_model_performance(MODELS_PATH + model + '/')\n",
    "performance.sort_values(by='val_fp_acc', ascending=False)\n",
    "performance.iloc[91] # note: validation accuracy spikes up here above training accuracy"
   ]
  },
  {
   "cell_type": "code",
   "execution_count": 38,
   "metadata": {},
   "outputs": [
    {
     "data": {
      "text/plain": [
       "epoch                118.000000\n",
       "training_losses        0.736353\n",
       "validation_losses      0.868115\n",
       "train_fp_acc           0.315359\n",
       "val_fp_acc             0.333333\n",
       "Name: 117, dtype: float64"
      ]
     },
     "execution_count": 38,
     "metadata": {},
     "output_type": "execute_result"
    }
   ],
   "source": [
    "model = 'reg_pos_3_coef_copies_1to5_2HL_customweightrankingloss'\n",
    "performance = get_model_performance(MODELS_PATH + model + '/')\n",
    "performance.sort_values(by='val_fp_acc', ascending=False)\n",
    "performance.iloc[117]"
   ]
  },
  {
   "cell_type": "markdown",
   "metadata": {},
   "source": [
    "## Classification models"
   ]
  },
  {
   "cell_type": "code",
   "execution_count": 42,
   "metadata": {},
   "outputs": [
    {
     "data": {
      "text/plain": [
       "epoch                91.000000\n",
       "training_losses       1.164641\n",
       "validation_losses     2.153013\n",
       "train_fp_acc          0.610294\n",
       "val_fp_acc            0.346405\n",
       "Name: 90, dtype: float64"
      ]
     },
     "execution_count": 42,
     "metadata": {},
     "output_type": "execute_result"
    }
   ],
   "source": [
    "model = 'classif_pos_3copies1to10_1HL'\n",
    "performance = get_model_performance(MODELS_PATH + model + '/')\n",
    "performance.sort_values(by='val_fp_acc', ascending=False)\n",
    "performance.iloc[90] # there are higher values, but I don't trust them because validation loss is rising, while model is overfitting training set"
   ]
  },
  {
   "cell_type": "code",
   "execution_count": 45,
   "metadata": {},
   "outputs": [
    {
     "data": {
      "text/plain": [
       "epoch                500.000000\n",
       "training_losses        2.143160\n",
       "validation_losses      2.694908\n",
       "train_fp_acc           0.339869\n",
       "val_fp_acc             0.274510\n",
       "Name: 499, dtype: float64"
      ]
     },
     "execution_count": 45,
     "metadata": {},
     "output_type": "execute_result"
    }
   ],
   "source": [
    "model = 'classif_pos_3copies1to10_2HL_dropout0.5'\n",
    "performance = get_model_performance(MODELS_PATH + model + '/')\n",
    "performance.sort_values(by='val_fp_acc', ascending=False)\n",
    "performance.iloc[499] # validation loss is rising, so I didn't run more epochs"
   ]
  },
  {
   "cell_type": "code",
   "execution_count": 47,
   "metadata": {},
   "outputs": [
    {
     "data": {
      "text/plain": [
       "epoch                1064.000000\n",
       "training_losses         1.414862\n",
       "validation_losses       2.255331\n",
       "train_fp_acc            0.531863\n",
       "val_fp_acc              0.326797\n",
       "Name: 1063, dtype: float64"
      ]
     },
     "execution_count": 47,
     "metadata": {},
     "output_type": "execute_result"
    }
   ],
   "source": [
    "model = 'classif_pos_3copies1to10_2HL_dropout0.2lr0.0001'\n",
    "performance = get_model_performance(MODELS_PATH + model + '/')\n",
    "performance.sort_values(by='val_fp_acc', ascending=False)\n",
    "performance.iloc[1063]"
   ]
  },
  {
   "cell_type": "code",
   "execution_count": 49,
   "metadata": {},
   "outputs": [
    {
     "data": {
      "text/plain": [
       "epoch                500.000000\n",
       "training_losses        2.143160\n",
       "validation_losses      2.694908\n",
       "train_fp_acc           0.339869\n",
       "val_fp_acc             0.274510\n",
       "Name: 499, dtype: float64"
      ]
     },
     "execution_count": 49,
     "metadata": {},
     "output_type": "execute_result"
    }
   ],
   "source": [
    "model = 'classif_pos_3copies1to10_2HL_dropout0.5'\n",
    "performance = get_model_performance(MODELS_PATH + model + '/')\n",
    "performance.sort_values(by='val_fp_acc', ascending=False)\n",
    "performance.iloc[499] # validation loss is definitely rising, so I didn't run more epochs"
   ]
  },
  {
   "cell_type": "code",
   "execution_count": 52,
   "metadata": {},
   "outputs": [
    {
     "data": {
      "text/plain": [
       "epoch                1250.000000\n",
       "training_losses         1.241634\n",
       "validation_losses       2.179380\n",
       "train_fp_acc            0.575163\n",
       "val_fp_acc              0.385621\n",
       "Name: 1249, dtype: float64"
      ]
     },
     "execution_count": 52,
     "metadata": {},
     "output_type": "execute_result"
    }
   ],
   "source": [
    "model = 'classif_pos_coef_3copies1to5_2HL_dropout0.2lr0.0001'\n",
    "performance = get_model_performance(MODELS_PATH + model + '/')\n",
    "performance.sort_values(by='val_fp_acc', ascending=False)\n",
    "performance.iloc[1249] # validation loss is definitely rising, so I didn't run more epochs"
   ]
  },
  {
   "cell_type": "code",
   "execution_count": 60,
   "metadata": {},
   "outputs": [
    {
     "data": {
      "text/plain": [
       "epoch                947.000000\n",
       "training_losses        2.045764\n",
       "validation_losses      2.456253\n",
       "train_fp_acc           0.361928\n",
       "val_fp_acc             0.320261\n",
       "Name: 946, dtype: float64"
      ]
     },
     "execution_count": 60,
     "metadata": {},
     "output_type": "execute_result"
    }
   ],
   "source": [
    "model = 'classif_pos_coef_3copies1to5_2HL_dropout0.5lr0.0001'\n",
    "performance = get_model_performance(MODELS_PATH + model + '/')\n",
    "performance.sort_values(by='val_fp_acc', ascending=False)\n",
    "performance.iloc[946]"
   ]
  },
  {
   "cell_type": "markdown",
   "metadata": {},
   "source": [
    "# Best Model -- evaluate on test set"
   ]
  },
  {
   "cell_type": "code",
   "execution_count": 87,
   "metadata": {},
   "outputs": [
    {
     "name": "stdout",
     "output_type": "stream",
     "text": [
      "New model created\n"
     ]
    },
    {
     "name": "stderr",
     "output_type": "stream",
     "text": [
      "Epoch 363/363 - Train Acc: 0.47 | Val Acc: 0.39: 100%|██████████| 363/363 [00:10<00:00, 34.19epoch/s]\n"
     ]
    },
    {
     "name": "stdout",
     "output_type": "stream",
     "text": [
      "Model saved\n"
     ]
    },
    {
     "data": {
      "text/html": [
       "<div>\n",
       "<style scoped>\n",
       "    .dataframe tbody tr th:only-of-type {\n",
       "        vertical-align: middle;\n",
       "    }\n",
       "\n",
       "    .dataframe tbody tr th {\n",
       "        vertical-align: top;\n",
       "    }\n",
       "\n",
       "    .dataframe thead th {\n",
       "        text-align: right;\n",
       "    }\n",
       "</style>\n",
       "<table border=\"1\" class=\"dataframe\">\n",
       "  <thead>\n",
       "    <tr style=\"text-align: right;\">\n",
       "      <th></th>\n",
       "      <th>epoch</th>\n",
       "      <th>training_losses</th>\n",
       "      <th>validation_losses</th>\n",
       "      <th>train_fp_acc</th>\n",
       "      <th>val_fp_acc</th>\n",
       "    </tr>\n",
       "  </thead>\n",
       "  <tbody>\n",
       "    <tr>\n",
       "      <th>0</th>\n",
       "      <td>1</td>\n",
       "      <td>0.433247</td>\n",
       "      <td>0.408488</td>\n",
       "      <td>0.047386</td>\n",
       "      <td>0.065359</td>\n",
       "    </tr>\n",
       "    <tr>\n",
       "      <th>1</th>\n",
       "      <td>2</td>\n",
       "      <td>0.373519</td>\n",
       "      <td>0.344810</td>\n",
       "      <td>0.044118</td>\n",
       "      <td>0.058824</td>\n",
       "    </tr>\n",
       "    <tr>\n",
       "      <th>2</th>\n",
       "      <td>3</td>\n",
       "      <td>0.303694</td>\n",
       "      <td>0.265046</td>\n",
       "      <td>0.044118</td>\n",
       "      <td>0.058824</td>\n",
       "    </tr>\n",
       "    <tr>\n",
       "      <th>3</th>\n",
       "      <td>4</td>\n",
       "      <td>0.227282</td>\n",
       "      <td>0.193913</td>\n",
       "      <td>0.044118</td>\n",
       "      <td>0.058824</td>\n",
       "    </tr>\n",
       "    <tr>\n",
       "      <th>4</th>\n",
       "      <td>5</td>\n",
       "      <td>0.169303</td>\n",
       "      <td>0.148637</td>\n",
       "      <td>0.044118</td>\n",
       "      <td>0.058824</td>\n",
       "    </tr>\n",
       "    <tr>\n",
       "      <th>...</th>\n",
       "      <td>...</td>\n",
       "      <td>...</td>\n",
       "      <td>...</td>\n",
       "      <td>...</td>\n",
       "      <td>...</td>\n",
       "    </tr>\n",
       "    <tr>\n",
       "      <th>358</th>\n",
       "      <td>359</td>\n",
       "      <td>0.056565</td>\n",
       "      <td>0.063872</td>\n",
       "      <td>0.470588</td>\n",
       "      <td>0.398693</td>\n",
       "    </tr>\n",
       "    <tr>\n",
       "      <th>359</th>\n",
       "      <td>360</td>\n",
       "      <td>0.056548</td>\n",
       "      <td>0.063880</td>\n",
       "      <td>0.472222</td>\n",
       "      <td>0.385621</td>\n",
       "    </tr>\n",
       "    <tr>\n",
       "      <th>360</th>\n",
       "      <td>361</td>\n",
       "      <td>0.056536</td>\n",
       "      <td>0.063883</td>\n",
       "      <td>0.473039</td>\n",
       "      <td>0.392157</td>\n",
       "    </tr>\n",
       "    <tr>\n",
       "      <th>361</th>\n",
       "      <td>362</td>\n",
       "      <td>0.056523</td>\n",
       "      <td>0.063879</td>\n",
       "      <td>0.470588</td>\n",
       "      <td>0.398693</td>\n",
       "    </tr>\n",
       "    <tr>\n",
       "      <th>362</th>\n",
       "      <td>363</td>\n",
       "      <td>0.056509</td>\n",
       "      <td>0.063879</td>\n",
       "      <td>0.471405</td>\n",
       "      <td>0.392157</td>\n",
       "    </tr>\n",
       "  </tbody>\n",
       "</table>\n",
       "<p>363 rows × 5 columns</p>\n",
       "</div>"
      ],
      "text/plain": [
       "     epoch  training_losses  validation_losses  train_fp_acc  val_fp_acc\n",
       "0        1         0.433247           0.408488      0.047386    0.065359\n",
       "1        2         0.373519           0.344810      0.044118    0.058824\n",
       "2        3         0.303694           0.265046      0.044118    0.058824\n",
       "3        4         0.227282           0.193913      0.044118    0.058824\n",
       "4        5         0.169303           0.148637      0.044118    0.058824\n",
       "..     ...              ...                ...           ...         ...\n",
       "358    359         0.056565           0.063872      0.470588    0.398693\n",
       "359    360         0.056548           0.063880      0.472222    0.385621\n",
       "360    361         0.056536           0.063883      0.473039    0.392157\n",
       "361    362         0.056523           0.063879      0.470588    0.398693\n",
       "362    363         0.056509           0.063879      0.471405    0.392157\n",
       "\n",
       "[363 rows x 5 columns]"
      ]
     },
     "execution_count": 87,
     "metadata": {},
     "output_type": "execute_result"
    },
    {
     "data": {
      "image/png": "[encoded data removed]",
      "text/plain": [
       "<Figure size 864x360 with 2 Axes>"
      ]
     },
     "metadata": {
      "needs_background": "light"
     },
     "output_type": "display_data"
    }
   ],
   "source": [
    "data_path = 'data/RaceMultiOutputModelRandomized/position/no_coef/Laps1to10/'\n",
    "\n",
    "coef_data_path = 'data/RaceMultiOutputModelRandomized/position/coef/Laps1to5/'\n",
    "# Load data\n",
    "cX_train = pd.read_csv(f'{coef_data_path}3copies_X_train.csv')\n",
    "cy_train = pd.read_csv(f'{coef_data_path}3copies_y_train.csv')\n",
    "cX_valid = pd.read_csv(f'{coef_data_path}3copies_X_valid.csv')\n",
    "cy_valid = pd.read_csv(f'{coef_data_path}3copies_y_valid.csv')\n",
    "cX_test = pd.read_csv(f'{coef_data_path}3copies_X_test.csv')\n",
    "cy_test = pd.read_csv(f'{coef_data_path}3copies_y_test.csv')\n",
    "\n",
    "# Drop copy_id\n",
    "cX_train.drop(['copy_id'],axis=1, inplace=True)\n",
    "cy_train.drop(['copy_id'],axis=1, inplace=True)\n",
    "cX_valid.drop(['copy_id'],axis=1, inplace=True)\n",
    "cy_valid.drop(['copy_id'],axis=1, inplace=True)\n",
    "cX_test.drop(['copy_id'],axis=1, inplace=True)\n",
    "cy_test.drop(['copy_id'],axis=1, inplace=True)\n",
    "\n",
    "scaler = MinMaxScaler()\n",
    "# Scale data\n",
    "cX_train = scaler.fit_transform(cX_train)\n",
    "cy_train = cy_train / 25\n",
    "cX_valid = scaler.transform(cX_valid)\n",
    "cy_valid = cy_valid / 25\n",
    "cX_test = scaler.transform(cX_test)\n",
    "cy_test = cy_test / 25\n",
    "\n",
    "# Create Dataset and DataLoader for train and test sets\n",
    "ctrain_dataset = RaceDataset(torch.tensor(cX_train, dtype=torch.float32), torch.tensor(cy_train.values, dtype=torch.float32))\n",
    "cvalid_dataset = RaceDataset(torch.tensor(cX_valid, dtype=torch.float32), torch.tensor(cy_valid.values, dtype=torch.float32))\n",
    "ctest_dataset = RaceDataset(torch.tensor(cX_test, dtype=torch.float32), torch.tensor(cy_test.values, dtype=torch.float32))\n",
    "\n",
    "ctrain_loader = DataLoader(ctrain_dataset, batch_size=64, shuffle=False)\n",
    "cvalid_loader = DataLoader(cvalid_dataset, batch_size=64, shuffle=False)\n",
    "ctest_loader = DataLoader(ctest_dataset, batch_size=64, shuffle=False)\n",
    "\n",
    "\n",
    "\n",
    "model_path = MODELS_PATH + 'FINAL_reg_pos_coef_3copies_1to5_1HL_mse/'\n",
    "model = OneHiddenLayerReg(input_size=24*6)\n",
    "criterion = nn.MSELoss()\n",
    "lr = 0.0001\n",
    "\n",
    "epochs = 363\n",
    "load = False\n",
    "train_regression_model(model_path, ctrain_loader, cvalid_loader, model, criterion, epochs=epochs, load=load, lr=lr, viz=True)"
   ]
  },
  {
   "cell_type": "code",
   "execution_count": 88,
   "metadata": {},
   "outputs": [
    {
     "name": "stdout",
     "output_type": "stream",
     "text": [
      "Loss: 0.0563 | Acc: 0.478758\n"
     ]
    }
   ],
   "source": [
    "model_path = MODELS_PATH + 'FINAL_reg_pos_coef_3copies_1to5_1HL_mse/'\n",
    "test_eval(model_path, ctrain_loader, model, criterion)"
   ]
  },
  {
   "cell_type": "code",
   "execution_count": 89,
   "metadata": {},
   "outputs": [
    {
     "name": "stdout",
     "output_type": "stream",
     "text": [
      "Loss: 0.0639 | Acc: 0.392157\n"
     ]
    }
   ],
   "source": [
    "model_path = MODELS_PATH + 'FINAL_reg_pos_coef_3copies_1to5_1HL_mse/'\n",
    "test_eval(model_path, cvalid_loader, model, criterion)"
   ]
  },
  {
   "cell_type": "code",
   "execution_count": 90,
   "metadata": {},
   "outputs": [
    {
     "name": "stdout",
     "output_type": "stream",
     "text": [
      "Loss: 0.0599 | Acc: 0.398693\n"
     ]
    }
   ],
   "source": [
    "model_path = MODELS_PATH + 'FINAL_reg_pos_coef_3copies_1to5_1HL_mse/'\n",
    "test_eval(model_path, ctest_loader, model, criterion)"
   ]
  }
 ],
 "metadata": {
  "kernelspec": {
   "display_name": "Python 3",
   "language": "python",
   "name": "python3"
  },
  "language_info": {
   "codemirror_mode": {
    "name": "ipython",
    "version": 3
   },
   "file_extension": ".py",
   "mimetype": "text/x-python",
   "name": "python",
   "nbconvert_exporter": "python",
   "pygments_lexer": "ipython3",
   "version": "3.7.11"
  }
 },
 "nbformat": 4,
 "nbformat_minor": 2
}
