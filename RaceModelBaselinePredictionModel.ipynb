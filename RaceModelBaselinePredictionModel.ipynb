{
 "cells": [
  {
   "cell_type": "code",
   "execution_count": 1,
   "metadata": {},
   "outputs": [],
   "source": [
    "import pandas as pd\n",
    "import datetime\n",
    "import matplotlib.pyplot as plt \n",
    "import seaborn as sns \n",
    "import numpy as np\n",
    "\n",
    "from sklearn.linear_model import LinearRegression, LogisticRegression\n",
    "from sklearn.preprocessing import MinMaxScaler"
   ]
  },
  {
   "cell_type": "code",
   "execution_count": 2,
   "metadata": {},
   "outputs": [
    {
     "name": "stdout",
     "output_type": "stream",
     "text": [
      "['data/RaceMultiOutputModelRandomized/position/Lap7/1copies_X_test.csv', 'data/RaceMultiOutputModelRandomized/position/Lap7/1copies_y_test.csv', 'data/RaceMultiOutputModelRandomized/position/Lap9/1copies_X_test.csv', 'data/RaceMultiOutputModelRandomized/position/Lap9/1copies_y_test.csv', 'data/RaceMultiOutputModelRandomized/position/Lap8/1copies_X_test.csv', 'data/RaceMultiOutputModelRandomized/position/Lap8/1copies_y_test.csv', 'data/RaceMultiOutputModelRandomized/position/Lap6/1copies_X_test.csv', 'data/RaceMultiOutputModelRandomized/position/Lap6/1copies_y_test.csv', 'data/RaceMultiOutputModelRandomized/position/Lap1/1copies_X_test.csv', 'data/RaceMultiOutputModelRandomized/position/Lap1/1copies_y_test.csv', 'data/RaceMultiOutputModelRandomized/position/Lap1/3copies_X_test.csv', 'data/RaceMultiOutputModelRandomized/position/Lap1/3copies_y_test.csv', 'data/RaceMultiOutputModelRandomized/position/Laps0to10/3copies_X_test.csv', 'data/RaceMultiOutputModelRandomized/position/Laps0to10/3copies_y_test.csv', 'data/RaceMultiOutputModelRandomized/position/Lap10/1copies_X_test.csv', 'data/RaceMultiOutputModelRandomized/position/Lap10/1copies_y_test.csv', 'data/RaceMultiOutputModelRandomized/position/Lap10/3copies_X_test.csv', 'data/RaceMultiOutputModelRandomized/position/Lap10/3copies_y_test.csv', 'data/RaceMultiOutputModelRandomized/position/Lap4/1copies_X_test.csv', 'data/RaceMultiOutputModelRandomized/position/Lap4/1copies_y_test.csv', 'data/RaceMultiOutputModelRandomized/position/Lap3/1copies_X_test.csv', 'data/RaceMultiOutputModelRandomized/position/Lap3/1copies_y_test.csv', 'data/RaceMultiOutputModelRandomized/position/Lap2/1copies_X_test.csv', 'data/RaceMultiOutputModelRandomized/position/Lap2/1copies_y_test.csv', 'data/RaceMultiOutputModelRandomized/position/Lap5/1copies_X_test.csv', 'data/RaceMultiOutputModelRandomized/position/Lap5/1copies_y_test.csv', 'data/RaceMultiOutputModelRandomized/milliseconds/Lap1/3copies_X_test.csv', 'data/RaceMultiOutputModelRandomized/milliseconds/Lap1/3copies_y_test.csv', 'data/RaceMultiOutputModelRandomized/milliseconds/Laps0to10/3copies_X_test.csv', 'data/RaceMultiOutputModelRandomized/milliseconds/Laps0to10/3copies_y_test.csv', 'data/RaceMultiOutputModelRandomized/milliseconds/Lap10/3copies_X_test.csv', 'data/RaceMultiOutputModelRandomized/milliseconds/Lap10/3copies_y_test.csv']\n"
     ]
    }
   ],
   "source": [
    "import os\n",
    "import glob\n",
    "\n",
    "def find_csv_files(root_dir):\n",
    "    # This will hold all the paths to the files\n",
    "    csv_files = []\n",
    "\n",
    "    # Walk through all the directories and subdirectories\n",
    "    for dirpath, dirnames, filenames in os.walk(root_dir):\n",
    "        # Use glob to find files ending with 'test.csv' in the current directory\n",
    "        for file in glob.glob(os.path.join(dirpath, '*test.csv')):\n",
    "            csv_files.append(file)\n",
    "    \n",
    "    return csv_files\n",
    "\n",
    "# Replace 'your_directory_path' with the path to your directory\n",
    "root_directory = 'data/RaceMultiOutputModelRandomized/'\n",
    "files = find_csv_files(root_directory)\n",
    "print(files)"
   ]
  },
  {
   "cell_type": "code",
   "execution_count": 3,
   "metadata": {},
   "outputs": [],
   "source": [
    "race_ids = pd.DataFrame()\n",
    "for file in files:\n",
    "    if '1copies' in file:\n",
    "        race_ids[file] = pd.read_csv(file)['copy_id']"
   ]
  },
  {
   "cell_type": "code",
   "execution_count": 4,
   "metadata": {},
   "outputs": [],
   "source": [
    "def model(X):\n",
    "    return np.argmin(X.values, axis=1)\n",
    "\n",
    "def process_Y(y):\n",
    "    return np.argmin(y.values, axis=1)"
   ]
  },
  {
   "cell_type": "markdown",
   "metadata": {},
   "source": [
    "# Baseline Model -- argmin lap n\n",
    "Use positions at nth lap as prediction of finishing position (predicting first place only)"
   ]
  },
  {
   "cell_type": "code",
   "execution_count": 5,
   "metadata": {},
   "outputs": [],
   "source": [
    "def calculate_fp_accuracy(X, y):\n",
    "    y_pred = model(X)\n",
    "    y_true = process_Y(y)\n",
    "    return np.mean(y_pred == y_true)"
   ]
  },
  {
   "cell_type": "code",
   "execution_count": 6,
   "metadata": {},
   "outputs": [
    {
     "data": {
      "text/html": [
       "<div>\n",
       "<style scoped>\n",
       "    .dataframe tbody tr th:only-of-type {\n",
       "        vertical-align: middle;\n",
       "    }\n",
       "\n",
       "    .dataframe tbody tr th {\n",
       "        vertical-align: top;\n",
       "    }\n",
       "\n",
       "    .dataframe thead th {\n",
       "        text-align: right;\n",
       "    }\n",
       "</style>\n",
       "<table border=\"1\" class=\"dataframe\">\n",
       "  <thead>\n",
       "    <tr style=\"text-align: right;\">\n",
       "      <th></th>\n",
       "      <th>lap</th>\n",
       "      <th>train</th>\n",
       "      <th>valid</th>\n",
       "      <th>test</th>\n",
       "    </tr>\n",
       "  </thead>\n",
       "  <tbody>\n",
       "    <tr>\n",
       "      <th>0</th>\n",
       "      <td>Lap1</td>\n",
       "      <td>0.563725</td>\n",
       "      <td>0.470588</td>\n",
       "      <td>0.509804</td>\n",
       "    </tr>\n",
       "    <tr>\n",
       "      <th>1</th>\n",
       "      <td>Lap2</td>\n",
       "      <td>0.552826</td>\n",
       "      <td>0.549020</td>\n",
       "      <td>0.549020</td>\n",
       "    </tr>\n",
       "    <tr>\n",
       "      <th>2</th>\n",
       "      <td>Lap3</td>\n",
       "      <td>0.555283</td>\n",
       "      <td>0.568627</td>\n",
       "      <td>0.568627</td>\n",
       "    </tr>\n",
       "    <tr>\n",
       "      <th>3</th>\n",
       "      <td>Lap4</td>\n",
       "      <td>0.557740</td>\n",
       "      <td>0.568627</td>\n",
       "      <td>0.588235</td>\n",
       "    </tr>\n",
       "    <tr>\n",
       "      <th>4</th>\n",
       "      <td>Lap5</td>\n",
       "      <td>0.577396</td>\n",
       "      <td>0.568627</td>\n",
       "      <td>0.607843</td>\n",
       "    </tr>\n",
       "    <tr>\n",
       "      <th>5</th>\n",
       "      <td>Lap6</td>\n",
       "      <td>0.577396</td>\n",
       "      <td>0.588235</td>\n",
       "      <td>0.607843</td>\n",
       "    </tr>\n",
       "    <tr>\n",
       "      <th>6</th>\n",
       "      <td>Lap7</td>\n",
       "      <td>0.570025</td>\n",
       "      <td>0.588235</td>\n",
       "      <td>0.607843</td>\n",
       "    </tr>\n",
       "    <tr>\n",
       "      <th>7</th>\n",
       "      <td>Lap8</td>\n",
       "      <td>0.567568</td>\n",
       "      <td>0.588235</td>\n",
       "      <td>0.607843</td>\n",
       "    </tr>\n",
       "    <tr>\n",
       "      <th>8</th>\n",
       "      <td>Lap9</td>\n",
       "      <td>0.574939</td>\n",
       "      <td>0.568627</td>\n",
       "      <td>0.607843</td>\n",
       "    </tr>\n",
       "    <tr>\n",
       "      <th>9</th>\n",
       "      <td>Lap10</td>\n",
       "      <td>0.582310</td>\n",
       "      <td>0.588235</td>\n",
       "      <td>0.588235</td>\n",
       "    </tr>\n",
       "  </tbody>\n",
       "</table>\n",
       "</div>"
      ],
      "text/plain": [
       "     lap     train     valid      test\n",
       "0   Lap1  0.563725  0.470588  0.509804\n",
       "1   Lap2  0.552826  0.549020  0.549020\n",
       "2   Lap3  0.555283  0.568627  0.568627\n",
       "3   Lap4  0.557740  0.568627  0.588235\n",
       "4   Lap5  0.577396  0.568627  0.607843\n",
       "5   Lap6  0.577396  0.588235  0.607843\n",
       "6   Lap7  0.570025  0.588235  0.607843\n",
       "7   Lap8  0.567568  0.588235  0.607843\n",
       "8   Lap9  0.574939  0.568627  0.607843\n",
       "9  Lap10  0.582310  0.588235  0.588235"
      ]
     },
     "execution_count": 6,
     "metadata": {},
     "output_type": "execute_result"
    }
   ],
   "source": [
    "fp_accuracy = pd.DataFrame(columns=['lap','train','valid','test'])\n",
    "for lap_data in ['Lap{}'.format(i) for i in range(1,11)]:\n",
    "\n",
    "    X_train = pd.read_csv('data/RaceMultiOutputModelRandomized/position/{}/1copies_X_train.csv'.format(lap_data)).drop(columns=['copy_id'],axis=1)\n",
    "    y_train = pd.read_csv('data/RaceMultiOutputModelRandomized/position/{}/1copies_y_train.csv'.format(lap_data)).drop(columns=['copy_id'],axis=1)\n",
    "    X_valid = pd.read_csv('data/RaceMultiOutputModelRandomized/position/{}/1copies_X_valid.csv'.format(lap_data)).drop(columns=['copy_id'],axis=1)\n",
    "    y_valid = pd.read_csv('data/RaceMultiOutputModelRandomized/position/{}/1copies_y_valid.csv'.format(lap_data)).drop(columns=['copy_id'],axis=1)\n",
    "    X_test = pd.read_csv('data/RaceMultiOutputModelRandomized/position/{}/1copies_X_test.csv'.format(lap_data)).drop(columns=['copy_id'],axis=1)\n",
    "    y_test = pd.read_csv('data/RaceMultiOutputModelRandomized/position/{}/1copies_y_test.csv'.format(lap_data)).drop(columns=['copy_id'],axis=1)\n",
    "\n",
    "    train_accuracy = calculate_fp_accuracy(X_train, y_train)\n",
    "    valid_accuracy = calculate_fp_accuracy(X_valid, y_valid)\n",
    "    test_accuracy = calculate_fp_accuracy(X_test, y_test)\n",
    "    \n",
    "    fp_accuracy.loc[len(fp_accuracy)] = [lap_data, train_accuracy, valid_accuracy, test_accuracy]\n",
    "fp_accuracy"
   ]
  },
  {
   "cell_type": "markdown",
   "metadata": {},
   "source": [
    "# Other"
   ]
  },
  {
   "cell_type": "code",
   "execution_count": 66,
   "metadata": {},
   "outputs": [],
   "source": [
    "def top_n_accuracy(y_true, y_pred, n=3):\n",
    "    \"\"\"\n",
    "    Calculate the Top-N accuracy of the predictions.\n",
    "    \"\"\"\n",
    "\n",
    "    array = []\n",
    "\n",
    "\n",
    "    zero_off = 0\n",
    "    one_off = 0\n",
    "    two_off = 0\n",
    "\n",
    "    for i, race in enumerate(y_true):\n",
    "        race_1st = np.argpartition(race, 0)[0] #race.argsort()[0]##np.argpartition(race, 0)[0]\n",
    "        #race_1st = race.argsort().argsort()[0]\n",
    "        #assert race_1st==race_1st2\n",
    "        #array.append(race_1st)\n",
    "        race_2nd = np.argpartition(race, 1)[1]\n",
    "        race_3rd = np.argpartition(race, 2)[2]\n",
    "\n",
    "        pred = y_pred[i]\n",
    "        if pred == race_1st:\n",
    "            zero_off +=1\n",
    "        elif pred == race_2nd:\n",
    "            one_off += 1\n",
    "        elif pred == race_3rd:\n",
    "            two_off +=1\n",
    "\n",
    "    print(zero_off, one_off, two_off)\n",
    "\n",
    "    zero_off_acc = zero_off/len(y_pred)\n",
    "    one_off_acc = (zero_off + one_off)/len(y_pred)\n",
    "    two_off_acc = (zero_off + one_off + two_off)/len(y_pred)\n",
    "\n",
    "    return zero_off_acc, one_off_acc, two_off_acc"
   ]
  },
  {
   "cell_type": "code",
   "execution_count": 67,
   "metadata": {},
   "outputs": [
    {
     "name": "stdout",
     "output_type": "stream",
     "text": [
      "235 67 20\n"
     ]
    },
    {
     "data": {
      "text/plain": [
       "(0.5773955773955773, 0.742014742014742, 0.7911547911547911)"
      ]
     },
     "execution_count": 67,
     "metadata": {},
     "output_type": "execute_result"
    }
   ],
   "source": [
    "top_n_accuracy(y_train.values, preds, n=3)"
   ]
  }
 ],
 "metadata": {
  "kernelspec": {
   "display_name": "Python 3",
   "language": "python",
   "name": "python3"
  },
  "language_info": {
   "codemirror_mode": {
    "name": "ipython",
    "version": 3
   },
   "file_extension": ".py",
   "mimetype": "text/x-python",
   "name": "python",
   "nbconvert_exporter": "python",
   "pygments_lexer": "ipython3",
   "version": "3.7.11"
  }
 },
 "nbformat": 4,
 "nbformat_minor": 2
}
